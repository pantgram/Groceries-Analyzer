{
  "cells": [
    {
      "cell_type": "markdown",
      "metadata": {
        "id": "6XzkO5OwLiYU"
      },
      "source": [
        "# Transformation and analysis of primary data"
      ]
    },
    {
      "cell_type": "markdown",
      "metadata": {
        "id": "BuuUd_L6yF7r"
      },
      "source": [
        "Downloading the initial dataset"
      ]
    },
    {
      "cell_type": "code",
      "execution_count": 1,
      "metadata": {
        "colab": {
          "base_uri": "https://localhost:8080/"
        },
        "id": "Pv1Bvz-xcE9l",
        "outputId": "f1fd1989-5239-4152-cb0c-275b41c67865"
      },
      "outputs": [
        {
          "name": "stdout",
          "output_type": "stream",
          "text": [
            "Downloading...\n",
            "From: https://drive.google.com/uc?id=1qklC6HBqynRmhn5q-zY3Ov2a0jcCwT9s\n",
            "To: /home/pantgram/Groceries Analyzer/GroceriesInitial.csv\n",
            "100%|████████████████████████████████████████| 823k/823k [00:00<00:00, 2.98MB/s]\n"
          ]
        }
      ],
      "source": [
        "!gdown 1qklC6HBqynRmhn5q-zY3Ov2a0jcCwT9s"
      ]
    },
    {
      "cell_type": "markdown",
      "metadata": {
        "id": "azPZH4ON7neu"
      },
      "source": [
        "Loading data into a Pandas DataFrame."
      ]
    },
    {
      "cell_type": "code",
      "execution_count": 2,
      "metadata": {
        "id": "aAvaxl9sgeiZ"
      },
      "outputs": [],
      "source": [
        "# importing libraries\n",
        "import numpy as np\n",
        "import pandas as pd\n",
        "\n",
        "groceries_data = pd.read_csv('GroceriesInitial.csv', header='infer')"
      ]
    },
    {
      "cell_type": "markdown",
      "metadata": {
        "id": "mZsYjScDzuM6"
      },
      "source": [
        "Broswe data"
      ]
    },
    {
      "cell_type": "code",
      "execution_count": 3,
      "metadata": {
        "colab": {
          "base_uri": "https://localhost:8080/",
          "height": 377
        },
        "id": "EQ2QXqYWzK86",
        "outputId": "c794d90a-e859-497b-a3cc-5e76a5645cff"
      },
      "outputs": [
        {
          "data": {
            "text/html": [
              "<div>\n",
              "<style scoped>\n",
              "    .dataframe tbody tr th:only-of-type {\n",
              "        vertical-align: middle;\n",
              "    }\n",
              "\n",
              "    .dataframe tbody tr th {\n",
              "        vertical-align: top;\n",
              "    }\n",
              "\n",
              "    .dataframe thead th {\n",
              "        text-align: right;\n",
              "    }\n",
              "</style>\n",
              "<table border=\"1\" class=\"dataframe\">\n",
              "  <thead>\n",
              "    <tr style=\"text-align: right;\">\n",
              "      <th></th>\n",
              "      <th>id</th>\n",
              "      <th>basket_value</th>\n",
              "      <th>recency_days</th>\n",
              "      <th>Item_1</th>\n",
              "      <th>Item_2</th>\n",
              "      <th>Item_3</th>\n",
              "      <th>Item_4</th>\n",
              "      <th>Item_5</th>\n",
              "      <th>Item_6</th>\n",
              "      <th>Item_7</th>\n",
              "      <th>...</th>\n",
              "      <th>Item_23</th>\n",
              "      <th>Item_24</th>\n",
              "      <th>Item_25</th>\n",
              "      <th>Item_26</th>\n",
              "      <th>Item_27</th>\n",
              "      <th>Item_28</th>\n",
              "      <th>Item_29</th>\n",
              "      <th>Item_30</th>\n",
              "      <th>Item_31</th>\n",
              "      <th>Item_32</th>\n",
              "    </tr>\n",
              "  </thead>\n",
              "  <tbody>\n",
              "    <tr>\n",
              "      <th>0</th>\n",
              "      <td>1</td>\n",
              "      <td>1.1</td>\n",
              "      <td>2</td>\n",
              "      <td>citrus fruit</td>\n",
              "      <td>semi-finished bread</td>\n",
              "      <td>margarine</td>\n",
              "      <td>ready soups</td>\n",
              "      <td>NaN</td>\n",
              "      <td>NaN</td>\n",
              "      <td>NaN</td>\n",
              "      <td>...</td>\n",
              "      <td>NaN</td>\n",
              "      <td>NaN</td>\n",
              "      <td>NaN</td>\n",
              "      <td>NaN</td>\n",
              "      <td>NaN</td>\n",
              "      <td>NaN</td>\n",
              "      <td>NaN</td>\n",
              "      <td>NaN</td>\n",
              "      <td>NaN</td>\n",
              "      <td>NaN</td>\n",
              "    </tr>\n",
              "    <tr>\n",
              "      <th>1</th>\n",
              "      <td>2</td>\n",
              "      <td>3.6</td>\n",
              "      <td>31</td>\n",
              "      <td>tropical fruit</td>\n",
              "      <td>yogurt</td>\n",
              "      <td>coffee</td>\n",
              "      <td>NaN</td>\n",
              "      <td>NaN</td>\n",
              "      <td>NaN</td>\n",
              "      <td>NaN</td>\n",
              "      <td>...</td>\n",
              "      <td>NaN</td>\n",
              "      <td>NaN</td>\n",
              "      <td>NaN</td>\n",
              "      <td>NaN</td>\n",
              "      <td>NaN</td>\n",
              "      <td>NaN</td>\n",
              "      <td>NaN</td>\n",
              "      <td>NaN</td>\n",
              "      <td>NaN</td>\n",
              "      <td>NaN</td>\n",
              "    </tr>\n",
              "    <tr>\n",
              "      <th>2</th>\n",
              "      <td>3</td>\n",
              "      <td>1.2</td>\n",
              "      <td>7</td>\n",
              "      <td>whole milk</td>\n",
              "      <td>NaN</td>\n",
              "      <td>NaN</td>\n",
              "      <td>NaN</td>\n",
              "      <td>NaN</td>\n",
              "      <td>NaN</td>\n",
              "      <td>NaN</td>\n",
              "      <td>...</td>\n",
              "      <td>NaN</td>\n",
              "      <td>NaN</td>\n",
              "      <td>NaN</td>\n",
              "      <td>NaN</td>\n",
              "      <td>NaN</td>\n",
              "      <td>NaN</td>\n",
              "      <td>NaN</td>\n",
              "      <td>NaN</td>\n",
              "      <td>NaN</td>\n",
              "      <td>NaN</td>\n",
              "    </tr>\n",
              "    <tr>\n",
              "      <th>3</th>\n",
              "      <td>4</td>\n",
              "      <td>6.6</td>\n",
              "      <td>7</td>\n",
              "      <td>pip fruit</td>\n",
              "      <td>yogurt</td>\n",
              "      <td>cream cheese</td>\n",
              "      <td>meat spreads</td>\n",
              "      <td>NaN</td>\n",
              "      <td>NaN</td>\n",
              "      <td>NaN</td>\n",
              "      <td>...</td>\n",
              "      <td>NaN</td>\n",
              "      <td>NaN</td>\n",
              "      <td>NaN</td>\n",
              "      <td>NaN</td>\n",
              "      <td>NaN</td>\n",
              "      <td>NaN</td>\n",
              "      <td>NaN</td>\n",
              "      <td>NaN</td>\n",
              "      <td>NaN</td>\n",
              "      <td>NaN</td>\n",
              "    </tr>\n",
              "    <tr>\n",
              "      <th>4</th>\n",
              "      <td>5</td>\n",
              "      <td>2.5</td>\n",
              "      <td>66</td>\n",
              "      <td>other vegetables</td>\n",
              "      <td>whole milk</td>\n",
              "      <td>condensed milk</td>\n",
              "      <td>long life bakery product</td>\n",
              "      <td>NaN</td>\n",
              "      <td>NaN</td>\n",
              "      <td>NaN</td>\n",
              "      <td>...</td>\n",
              "      <td>NaN</td>\n",
              "      <td>NaN</td>\n",
              "      <td>NaN</td>\n",
              "      <td>NaN</td>\n",
              "      <td>NaN</td>\n",
              "      <td>NaN</td>\n",
              "      <td>NaN</td>\n",
              "      <td>NaN</td>\n",
              "      <td>NaN</td>\n",
              "      <td>NaN</td>\n",
              "    </tr>\n",
              "  </tbody>\n",
              "</table>\n",
              "<p>5 rows × 35 columns</p>\n",
              "</div>"
            ],
            "text/plain": [
              "   id  basket_value  recency_days            Item_1               Item_2  \\\n",
              "0   1           1.1             2      citrus fruit  semi-finished bread   \n",
              "1   2           3.6            31    tropical fruit               yogurt   \n",
              "2   3           1.2             7        whole milk                  NaN   \n",
              "3   4           6.6             7         pip fruit               yogurt   \n",
              "4   5           2.5            66  other vegetables           whole milk   \n",
              "\n",
              "           Item_3                    Item_4 Item_5 Item_6 Item_7  ... Item_23  \\\n",
              "0       margarine               ready soups    NaN    NaN    NaN  ...     NaN   \n",
              "1          coffee                       NaN    NaN    NaN    NaN  ...     NaN   \n",
              "2             NaN                       NaN    NaN    NaN    NaN  ...     NaN   \n",
              "3   cream cheese               meat spreads    NaN    NaN    NaN  ...     NaN   \n",
              "4  condensed milk  long life bakery product    NaN    NaN    NaN  ...     NaN   \n",
              "\n",
              "  Item_24 Item_25 Item_26 Item_27 Item_28 Item_29 Item_30 Item_31 Item_32  \n",
              "0     NaN     NaN     NaN     NaN     NaN     NaN     NaN     NaN     NaN  \n",
              "1     NaN     NaN     NaN     NaN     NaN     NaN     NaN     NaN     NaN  \n",
              "2     NaN     NaN     NaN     NaN     NaN     NaN     NaN     NaN     NaN  \n",
              "3     NaN     NaN     NaN     NaN     NaN     NaN     NaN     NaN     NaN  \n",
              "4     NaN     NaN     NaN     NaN     NaN     NaN     NaN     NaN     NaN  \n",
              "\n",
              "[5 rows x 35 columns]"
            ]
          },
          "execution_count": 3,
          "metadata": {},
          "output_type": "execute_result"
        }
      ],
      "source": [
        "groceries_data.head()"
      ]
    },
    {
      "cell_type": "code",
      "execution_count": 4,
      "metadata": {
        "colab": {
          "base_uri": "https://localhost:8080/",
          "height": 300
        },
        "id": "tcLrX62j6ZlC",
        "outputId": "003224cf-23d5-4d99-90e5-edd8641580f8"
      },
      "outputs": [
        {
          "data": {
            "text/html": [
              "<div>\n",
              "<style scoped>\n",
              "    .dataframe tbody tr th:only-of-type {\n",
              "        vertical-align: middle;\n",
              "    }\n",
              "\n",
              "    .dataframe tbody tr th {\n",
              "        vertical-align: top;\n",
              "    }\n",
              "\n",
              "    .dataframe thead th {\n",
              "        text-align: right;\n",
              "    }\n",
              "</style>\n",
              "<table border=\"1\" class=\"dataframe\">\n",
              "  <thead>\n",
              "    <tr style=\"text-align: right;\">\n",
              "      <th></th>\n",
              "      <th>id</th>\n",
              "      <th>basket_value</th>\n",
              "      <th>recency_days</th>\n",
              "    </tr>\n",
              "  </thead>\n",
              "  <tbody>\n",
              "    <tr>\n",
              "      <th>count</th>\n",
              "      <td>7536.000000</td>\n",
              "      <td>7536.000000</td>\n",
              "      <td>7536.000000</td>\n",
              "    </tr>\n",
              "    <tr>\n",
              "      <th>mean</th>\n",
              "      <td>4920.079485</td>\n",
              "      <td>5.036584</td>\n",
              "      <td>37.814225</td>\n",
              "    </tr>\n",
              "    <tr>\n",
              "      <th>std</th>\n",
              "      <td>2845.875602</td>\n",
              "      <td>3.692088</td>\n",
              "      <td>25.113222</td>\n",
              "    </tr>\n",
              "    <tr>\n",
              "      <th>min</th>\n",
              "      <td>1.000000</td>\n",
              "      <td>1.100000</td>\n",
              "      <td>1.000000</td>\n",
              "    </tr>\n",
              "    <tr>\n",
              "      <th>25%</th>\n",
              "      <td>2419.500000</td>\n",
              "      <td>2.200000</td>\n",
              "      <td>12.000000</td>\n",
              "    </tr>\n",
              "    <tr>\n",
              "      <th>50%</th>\n",
              "      <td>4927.000000</td>\n",
              "      <td>4.100000</td>\n",
              "      <td>37.000000</td>\n",
              "    </tr>\n",
              "    <tr>\n",
              "      <th>75%</th>\n",
              "      <td>7375.250000</td>\n",
              "      <td>7.000000</td>\n",
              "      <td>63.000000</td>\n",
              "    </tr>\n",
              "    <tr>\n",
              "      <th>max</th>\n",
              "      <td>9835.000000</td>\n",
              "      <td>25.100000</td>\n",
              "      <td>76.000000</td>\n",
              "    </tr>\n",
              "  </tbody>\n",
              "</table>\n",
              "</div>"
            ],
            "text/plain": [
              "                id  basket_value  recency_days\n",
              "count  7536.000000   7536.000000   7536.000000\n",
              "mean   4920.079485      5.036584     37.814225\n",
              "std    2845.875602      3.692088     25.113222\n",
              "min       1.000000      1.100000      1.000000\n",
              "25%    2419.500000      2.200000     12.000000\n",
              "50%    4927.000000      4.100000     37.000000\n",
              "75%    7375.250000      7.000000     63.000000\n",
              "max    9835.000000     25.100000     76.000000"
            ]
          },
          "execution_count": 4,
          "metadata": {},
          "output_type": "execute_result"
        }
      ],
      "source": [
        "groceries_data.describe()"
      ]
    },
    {
      "cell_type": "markdown",
      "metadata": {
        "id": "lHO5Gltez9RC"
      },
      "source": [
        "Useful libraries for visualization"
      ]
    },
    {
      "cell_type": "code",
      "execution_count": 5,
      "metadata": {
        "id": "Taw2ph2dOgpB"
      },
      "outputs": [],
      "source": [
        "import matplotlib.pyplot as plt\n",
        "import seaborn as sns"
      ]
    },
    {
      "cell_type": "markdown",
      "metadata": {
        "id": "aYIYav_u0Dmn"
      },
      "source": [
        "We see the fluctuation of the prices of the transaction value.\n",
        "\n",
        "We notice that most of the transactions had a value of less than 5, while a few were close to the maximum value of 25.1"
      ]
    },
    {
      "cell_type": "code",
      "execution_count": 6,
      "metadata": {
        "colab": {
          "base_uri": "https://localhost:8080/",
          "height": 451
        },
        "id": "K979URfe1369",
        "outputId": "7bfe26ab-ea78-4aa7-d4ea-f258f0133ca4"
      },
      "outputs": [
        {
          "data": {
            "text/plain": [
              "<Axes: ylabel='Frequency'>"
            ]
          },
          "execution_count": 6,
          "metadata": {},
          "output_type": "execute_result"
        },
        {
          "data": {
            "image/png": "[encoded data removed]",
            "text/plain": [
              "<Figure size 640x480 with 1 Axes>"
            ]
          },
          "metadata": {},
          "output_type": "display_data"
        }
      ],
      "source": [
        "groceries_data.plot(kind='hist', y='basket_value')"
      ]
    },
    {
      "cell_type": "markdown",
      "metadata": {
        "id": "KgPM3R0X0oh1"
      },
      "source": [
        "Similarly, we see the price variation of the number of days that have passed since the day of the transaction. \n",
        "We observe that the majority of transactions occur in less than 10 days, and at the same time in more than 70 days.\n",
        "\n",
        "In these intervals, therefore, we had an increase in customers.\n",
        "\n",
        "In the meantime, the number of co-customers becomes stable."
      ]
    },
    {
      "cell_type": "code",
      "execution_count": 7,
      "metadata": {
        "colab": {
          "base_uri": "https://localhost:8080/",
          "height": 448
        },
        "id": "od8DuUc7QxOW",
        "outputId": "869cc20b-b3bb-44f9-d037-76afe7a26296"
      },
      "outputs": [
        {
          "data": {
            "text/plain": [
              "<Axes: ylabel='Frequency'>"
            ]
          },
          "execution_count": 7,
          "metadata": {},
          "output_type": "execute_result"
        },
        {
          "data": {
            "image/png": "[encoded data removed]",
            "text/plain": [
              "<Figure size 640x480 with 1 Axes>"
            ]
          },
          "metadata": {},
          "output_type": "display_data"
        }
      ],
      "source": [
        "groceries_data.plot(kind='hist',y='recency_days')"
      ]
    },
    {
      "cell_type": "markdown",
      "metadata": {
        "id": "eG1lr1eh2VJR"
      },
      "source": []
    },
    {
      "cell_type": "code",
      "execution_count": 8,
      "metadata": {
        "colab": {
          "base_uri": "https://localhost:8080/",
          "height": 468
        },
        "id": "fm7yLPj62jUd",
        "outputId": "17f8dbb2-c1f7-4626-a86c-950c687766f1"
      },
      "outputs": [
        {
          "data": {
            "text/plain": [
              "<Axes: xlabel='basket_value', ylabel='recency_days'>"
            ]
          },
          "execution_count": 8,
          "metadata": {},
          "output_type": "execute_result"
        },
        {
          "data": {
            "image/png": "[encoded data removed]",
            "text/plain": [
              "<Figure size 640x480 with 1 Axes>"
            ]
          },
          "metadata": {},
          "output_type": "display_data"
        }
      ],
      "source": [
        "groceries_data.plot(kind='scatter', x='basket_value',y='recency_days')"
      ]
    },
    {
      "cell_type": "markdown",
      "metadata": {
        "id": "EU3cNXql3mpF"
      },
      "source": [
        "Create list of transactions"
      ]
    },
    {
      "cell_type": "code",
      "execution_count": 9,
      "metadata": {
        "id": "uPv68gyUlFeY"
      },
      "outputs": [],
      "source": [
        "transacts = []\n",
        "transactions_data = groceries_data.loc[:, groceries_data.columns.drop(['id','basket_value','recency_days'])]\n",
        "for i in range(0, 7536):\n",
        "  #Populating a list of transactions\n",
        "  transacts.append([str(transactions_data.values[i,j]) for j in range(0, 32)])"
      ]
    },
    {
      "cell_type": "markdown",
      "metadata": {
        "id": "14-h-Khnk5N_"
      },
      "source": [
        "Keep needed transactions\n",
        "\n",
        "\n"
      ]
    },
    {
      "cell_type": "code",
      "execution_count": 10,
      "metadata": {
        "id": "eFulYWIYgjs9"
      },
      "outputs": [],
      "source": [
        "desired_items = ['citrus fruit', 'tropical fruit', 'whole milk', 'other vegetables', 'rolls/buns', 'chocolate', 'bottled water', 'yogurt', 'sausage', 'root vegetables', 'pastry', 'soda', 'cream']\n",
        "filtered_items = [[item for item in purchase if item in desired_items] for purchase in transacts]"
      ]
    },
    {
      "cell_type": "markdown",
      "metadata": {
        "id": "i-HnJxBgb4kV"
      },
      "source": [
        "Convert transactions to binary format"
      ]
    },
    {
      "cell_type": "code",
      "execution_count": 11,
      "metadata": {
        "id": "VeZdazL52HlW"
      },
      "outputs": [],
      "source": [
        "from mlxtend.preprocessing import TransactionEncoder\n",
        "te = TransactionEncoder()\n",
        "transaction_binary = te.fit(filtered_items).transform(filtered_items)\n",
        "transaction_binary=transaction_binary.astype(\"int\")\n",
        "transaction_binary=pd.DataFrame(transaction_binary, columns=te.columns_)"
      ]
    },
    {
      "cell_type": "markdown",
      "metadata": {
        "id": "VCxATOi-2tns"
      },
      "source": [
        "Create basket categories"
      ]
    },
    {
      "cell_type": "code",
      "execution_count": 12,
      "metadata": {
        "colab": {
          "base_uri": "https://localhost:8080/",
          "height": 267
        },
        "id": "Y4EFiDUosx-H",
        "outputId": "322248e3-6193-46ad-f5c1-7344950ccf8e"
      },
      "outputs": [
        {
          "data": {
            "text/html": [
              "<div>\n",
              "<style scoped>\n",
              "    .dataframe tbody tr th:only-of-type {\n",
              "        vertical-align: middle;\n",
              "    }\n",
              "\n",
              "    .dataframe tbody tr th {\n",
              "        vertical-align: top;\n",
              "    }\n",
              "\n",
              "    .dataframe thead th {\n",
              "        text-align: right;\n",
              "    }\n",
              "</style>\n",
              "<table border=\"1\" class=\"dataframe\">\n",
              "  <thead>\n",
              "    <tr style=\"text-align: right;\">\n",
              "      <th></th>\n",
              "      <th>bottled water</th>\n",
              "      <th>chocolate</th>\n",
              "      <th>citrus fruit</th>\n",
              "      <th>cream</th>\n",
              "      <th>other vegetables</th>\n",
              "      <th>pastry</th>\n",
              "      <th>rolls/buns</th>\n",
              "      <th>root vegetables</th>\n",
              "      <th>sausage</th>\n",
              "      <th>soda</th>\n",
              "      <th>tropical fruit</th>\n",
              "      <th>whole milk</th>\n",
              "      <th>yogurt</th>\n",
              "      <th>basket_value_category</th>\n",
              "    </tr>\n",
              "  </thead>\n",
              "  <tbody>\n",
              "    <tr>\n",
              "      <th>0</th>\n",
              "      <td>0</td>\n",
              "      <td>0</td>\n",
              "      <td>1</td>\n",
              "      <td>0</td>\n",
              "      <td>0</td>\n",
              "      <td>0</td>\n",
              "      <td>0</td>\n",
              "      <td>0</td>\n",
              "      <td>0</td>\n",
              "      <td>0</td>\n",
              "      <td>0</td>\n",
              "      <td>0</td>\n",
              "      <td>0</td>\n",
              "      <td>low_value_basket</td>\n",
              "    </tr>\n",
              "    <tr>\n",
              "      <th>1</th>\n",
              "      <td>0</td>\n",
              "      <td>0</td>\n",
              "      <td>0</td>\n",
              "      <td>0</td>\n",
              "      <td>0</td>\n",
              "      <td>0</td>\n",
              "      <td>0</td>\n",
              "      <td>0</td>\n",
              "      <td>0</td>\n",
              "      <td>0</td>\n",
              "      <td>1</td>\n",
              "      <td>0</td>\n",
              "      <td>1</td>\n",
              "      <td>medium_value_basket</td>\n",
              "    </tr>\n",
              "    <tr>\n",
              "      <th>2</th>\n",
              "      <td>0</td>\n",
              "      <td>0</td>\n",
              "      <td>0</td>\n",
              "      <td>0</td>\n",
              "      <td>0</td>\n",
              "      <td>0</td>\n",
              "      <td>0</td>\n",
              "      <td>0</td>\n",
              "      <td>0</td>\n",
              "      <td>0</td>\n",
              "      <td>0</td>\n",
              "      <td>1</td>\n",
              "      <td>0</td>\n",
              "      <td>low_value_basket</td>\n",
              "    </tr>\n",
              "    <tr>\n",
              "      <th>3</th>\n",
              "      <td>0</td>\n",
              "      <td>0</td>\n",
              "      <td>0</td>\n",
              "      <td>0</td>\n",
              "      <td>0</td>\n",
              "      <td>0</td>\n",
              "      <td>0</td>\n",
              "      <td>0</td>\n",
              "      <td>0</td>\n",
              "      <td>0</td>\n",
              "      <td>0</td>\n",
              "      <td>0</td>\n",
              "      <td>1</td>\n",
              "      <td>high_value_basket</td>\n",
              "    </tr>\n",
              "    <tr>\n",
              "      <th>4</th>\n",
              "      <td>0</td>\n",
              "      <td>0</td>\n",
              "      <td>0</td>\n",
              "      <td>0</td>\n",
              "      <td>1</td>\n",
              "      <td>0</td>\n",
              "      <td>0</td>\n",
              "      <td>0</td>\n",
              "      <td>0</td>\n",
              "      <td>0</td>\n",
              "      <td>0</td>\n",
              "      <td>1</td>\n",
              "      <td>0</td>\n",
              "      <td>low_value_basket</td>\n",
              "    </tr>\n",
              "  </tbody>\n",
              "</table>\n",
              "</div>"
            ],
            "text/plain": [
              "   bottled water  chocolate  citrus fruit  cream  other vegetables  pastry  \\\n",
              "0              0          0             1      0                 0       0   \n",
              "1              0          0             0      0                 0       0   \n",
              "2              0          0             0      0                 0       0   \n",
              "3              0          0             0      0                 0       0   \n",
              "4              0          0             0      0                 1       0   \n",
              "\n",
              "   rolls/buns  root vegetables  sausage  soda  tropical fruit  whole milk  \\\n",
              "0           0                0        0     0               0           0   \n",
              "1           0                0        0     0               1           0   \n",
              "2           0                0        0     0               0           1   \n",
              "3           0                0        0     0               0           0   \n",
              "4           0                0        0     0               0           1   \n",
              "\n",
              "   yogurt basket_value_category  \n",
              "0       0      low_value_basket  \n",
              "1       1   medium_value_basket  \n",
              "2       0      low_value_basket  \n",
              "3       1     high_value_basket  \n",
              "4       0      low_value_basket  "
            ]
          },
          "execution_count": 12,
          "metadata": {},
          "output_type": "execute_result"
        }
      ],
      "source": [
        "transaction_binary['basket_value_category']=pd.qcut(groceries_data['basket_value'], 3, labels=['low_value_basket','medium_value_basket','high_value_basket'])\n",
        "transaction_binary.head()"
      ]
    },
    {
      "cell_type": "markdown",
      "metadata": {
        "id": "K_ynHljNDxkG"
      },
      "source": [
        "# Learning association rules with the Apriori method"
      ]
    },
    {
      "cell_type": "markdown",
      "metadata": {
        "id": "N6PpxcNcteLO"
      },
      "source": [
        "Run the algorithm for the products"
      ]
    },
    {
      "cell_type": "code",
      "execution_count": 13,
      "metadata": {
        "colab": {
          "base_uri": "https://localhost:8080/"
        },
        "id": "9Pqg64kgbmGn",
        "outputId": "7a792a07-7ec6-4044-8cf1-a629ba618af5"
      },
      "outputs": [
        {
          "name": "stdout",
          "output_type": "stream",
          "text": [
            "min_support=0.001, Number of rules: 758\n",
            "min_support=0.005, Number of rules: 230\n",
            "min_support=0.01,  Number of rules: 124\n",
            "min_support=0.05,  Number of rules: 22\n",
            "min_support=0.1,   Number of rules: 11\n",
            "min_support=0.5,   Number of rules: 0\n",
            "min_support=1,     Number of rules: 0\n"
          ]
        }
      ],
      "source": [
        "from apyori import apriori\n",
        "print('min_support=0.001, Number of rules:', len(list(apriori(filtered_items, min_support=0.001))))\n",
        "print('min_support=0.005, Number of rules:', len(list(apriori(filtered_items, min_support=0.005))))\n",
        "print('min_support=0.01,  Number of rules:', len(list(apriori(filtered_items, min_support=0.01))))\n",
        "print('min_support=0.05,  Number of rules:', len(list(apriori(filtered_items, min_support=0.05))))\n",
        "print('min_support=0.1,   Number of rules:', len(list(apriori(filtered_items, min_support=0.1))))\n",
        "print('min_support=0.5,   Number of rules:', len(list(apriori(filtered_items, min_support=0.5))))\n",
        "print('min_support=1,     Number of rules:', len(list(apriori(filtered_items, min_support=1))))"
      ]
    },
    {
      "cell_type": "code",
      "execution_count": 14,
      "metadata": {
        "colab": {
          "base_uri": "https://localhost:8080/"
        },
        "id": "JWetaxnPpzMh",
        "outputId": "c55ebd16-589d-44ea-9fd6-27ebe36e57d6"
      },
      "outputs": [
        {
          "name": "stdout",
          "output_type": "stream",
          "text": [
            "['root vegetables', 'other vegetables', 'yogurt'] -> ['whole milk'] with Confidence: 0.61\n",
            "['root vegetables', 'citrus fruit'] -> ['other vegetables'] with Confidence: 0.59\n",
            "['root vegetables', 'tropical fruit'] -> ['other vegetables'] with Confidence: 0.58\n",
            "['root vegetables', 'tropical fruit'] -> ['whole milk'] with Confidence: 0.57\n",
            "['root vegetables', 'yogurt'] -> ['whole milk'] with Confidence: 0.56\n",
            "['root vegetables', 'yogurt', 'whole milk'] -> ['other vegetables'] with Confidence: 0.54\n",
            "['rolls/buns', 'root vegetables'] -> ['whole milk'] with Confidence: 0.52\n",
            "['tropical fruit', 'yogurt'] -> ['whole milk'] with Confidence: 0.52\n",
            "['root vegetables', 'citrus fruit'] -> ['whole milk'] with Confidence: 0.52\n",
            "['pastry', 'yogurt'] -> ['whole milk'] with Confidence: 0.52\n",
            "['root vegetables', 'sausage'] -> ['whole milk'] with Confidence: 0.52\n",
            "['other vegetables', 'yogurt'] -> ['whole milk'] with Confidence: 0.51\n",
            "['rolls/buns', 'root vegetables'] -> ['other vegetables'] with Confidence: 0.50\n",
            "['root vegetables', 'yogurt'] -> ['other vegetables'] with Confidence: 0.50\n",
            "['root vegetables', 'other vegetables'] -> ['whole milk'] with Confidence: 0.49\n",
            "['other vegetables', 'tropical fruit'] -> ['whole milk'] with Confidence: 0.48\n",
            "['citrus fruit', 'yogurt'] -> ['whole milk'] with Confidence: 0.47\n",
            "['root vegetables', 'whole milk'] -> ['other vegetables'] with Confidence: 0.47\n",
            "['pastry', 'other vegetables'] -> ['whole milk'] with Confidence: 0.47\n",
            "['citrus fruit', 'tropical fruit'] -> ['other vegetables'] with Confidence: 0.45\n"
          ]
        }
      ],
      "source": [
        "results = list(apriori(filtered_items, min_support=0.01, min_lift=1.11))\n",
        "\n",
        "rules = []\n",
        "for result in results:\n",
        "    rules += result.ordered_statistics\n",
        "\n",
        "def get_confidence(rule):\n",
        "  return rule.confidence\n",
        "\n",
        "ordered = sorted(rules, key=get_confidence, reverse=True)\n",
        "for rule in ordered[:20]:\n",
        "  print(f'{[*rule.items_base]} -> {[*rule.items_add]} with Confidence: {rule.confidence:.2f}')"
      ]
    },
    {
      "cell_type": "markdown",
      "metadata": {
        "id": "DhaklNw0pori"
      },
      "source": [
        "We create the product list and with the calibrated basket value and run for the products and\n",
        "calibrated basket value"
      ]
    },
    {
      "cell_type": "code",
      "execution_count": 15,
      "metadata": {
        "colab": {
          "base_uri": "https://localhost:8080/"
        },
        "id": "JCbn2rBem56x",
        "outputId": "895924ef-4b6c-4bd2-b2fe-ead7afeaebca"
      },
      "outputs": [
        {
          "name": "stdout",
          "output_type": "stream",
          "text": [
            "min_support=0.002, Number of rules: 1001\n",
            "min_support=0.006, Number of rules: 442\n",
            "min_support=0.03,  Number of rules: 91\n",
            "min_support=0.08,  Number of rules: 24\n",
            "min_support=0.12,   Number of rules: 14\n",
            "min_support=0.5,   Number of rules: 0\n",
            "min_support=1,     Number of rules: 0\n"
          ]
        }
      ],
      "source": [
        "import copy\n",
        "filtered_items_bc = copy.deepcopy(filtered_items)\n",
        "for i in range(0, 7536):\n",
        "  #Populating a list of transactions\n",
        "  filtered_items_bc[i].append(transaction_binary['basket_value_category'][i])\n",
        "\n",
        "print('min_support=0.002, Number of rules:', len(list(apriori(filtered_items_bc, min_support=0.002))))\n",
        "print('min_support=0.006, Number of rules:', len(list(apriori(filtered_items_bc, min_support=0.006))))\n",
        "print('min_support=0.03,  Number of rules:', len(list(apriori(filtered_items_bc, min_support=0.03))))\n",
        "print('min_support=0.08,  Number of rules:', len(list(apriori(filtered_items_bc, min_support=0.08))))\n",
        "print('min_support=0.12,   Number of rules:', len(list(apriori(filtered_items_bc, min_support=0.12))))\n",
        "print('min_support=0.5,   Number of rules:', len(list(apriori(filtered_items_bc, min_support=0.5))))\n",
        "print('min_support=1,     Number of rules:', len(list(apriori(filtered_items_bc, min_support=1))))"
      ]
    },
    {
      "cell_type": "markdown",
      "metadata": {
        "id": "M6WF8tt3s0my"
      },
      "source": [
        "We see that sausage is the first in confidence and is always combined with high_value_basket. Therefore, I think this is probably the most expensive product."
      ]
    },
    {
      "cell_type": "code",
      "execution_count": 16,
      "metadata": {
        "colab": {
          "base_uri": "https://localhost:8080/"
        },
        "id": "DBpZe_Hksjle",
        "outputId": "a37284aa-2920-4d0a-d011-c9e4fe532a8f"
      },
      "outputs": [
        {
          "name": "stdout",
          "output_type": "stream",
          "text": [
            "['sausage', 'other vegetables'] -> ['high_value_basket'] with Confidence: 1.00\n",
            "['rolls/buns', 'sausage'] -> ['high_value_basket'] with Confidence: 1.00\n",
            "['sausage', 'soda'] -> ['high_value_basket'] with Confidence: 1.00\n",
            "['sausage', 'whole milk'] -> ['high_value_basket'] with Confidence: 1.00\n",
            "['sausage'] -> ['high_value_basket'] with Confidence: 0.88\n",
            "['pastry', 'whole milk'] -> ['high_value_basket'] with Confidence: 0.84\n",
            "['tropical fruit', 'yogurt'] -> ['high_value_basket'] with Confidence: 0.80\n",
            "['tropical fruit', 'whole milk'] -> ['high_value_basket'] with Confidence: 0.77\n",
            "['other vegetables', 'tropical fruit'] -> ['high_value_basket'] with Confidence: 0.76\n",
            "['rolls/buns', 'yogurt'] -> ['high_value_basket'] with Confidence: 0.76\n",
            "['other vegetables', 'yogurt'] -> ['high_value_basket'] with Confidence: 0.73\n",
            "['rolls/buns', 'other vegetables'] -> ['high_value_basket'] with Confidence: 0.73\n",
            "['soda', 'other vegetables'] -> ['high_value_basket'] with Confidence: 0.71\n",
            "['root vegetables', 'other vegetables'] -> ['high_value_basket'] with Confidence: 0.69\n",
            "['yogurt', 'whole milk'] -> ['high_value_basket'] with Confidence: 0.68\n",
            "['rolls/buns', 'soda'] -> ['high_value_basket'] with Confidence: 0.67\n",
            "['pastry'] -> ['high_value_basket'] with Confidence: 0.67\n",
            "['soda', 'whole milk'] -> ['high_value_basket'] with Confidence: 0.66\n",
            "['root vegetables', 'whole milk'] -> ['high_value_basket'] with Confidence: 0.66\n",
            "['rolls/buns', 'whole milk'] -> ['high_value_basket'] with Confidence: 0.66\n"
          ]
        }
      ],
      "source": [
        "results = list(apriori(filtered_items_bc, min_support=0.03, min_lift=1.11))\n",
        "\n",
        "rules = []\n",
        "for result in results:\n",
        "    rules += result.ordered_statistics\n",
        "\n",
        "def get_confidence(rule):\n",
        "  return rule.confidence\n",
        "\n",
        "ordered = sorted(rules, key=get_confidence, reverse=True)\n",
        "for rule in ordered[:20]:\n",
        "  print(f'{[*rule.items_base]} -> {[*rule.items_add]} with Confidence: {rule.confidence:.2f}')"
      ]
    },
    {
      "cell_type": "markdown",
      "metadata": {
        "id": "_SEJUCcnzr_X"
      },
      "source": [
        "#  Grouping of transactions using the k-means method\n"
      ]
    },
    {
      "cell_type": "markdown",
      "metadata": {
        "id": "ZGvkCEFr6xEq"
      },
      "source": [
        "We add basket_value and recency_days to our processed data"
      ]
    },
    {
      "cell_type": "code",
      "execution_count": 17,
      "metadata": {
        "colab": {
          "base_uri": "https://localhost:8080/",
          "height": 267
        },
        "id": "8PQPp_HY6S9o",
        "outputId": "4f482d87-1403-4ffc-9780-2579548b8167"
      },
      "outputs": [
        {
          "data": {
            "text/html": [
              "<div>\n",
              "<style scoped>\n",
              "    .dataframe tbody tr th:only-of-type {\n",
              "        vertical-align: middle;\n",
              "    }\n",
              "\n",
              "    .dataframe tbody tr th {\n",
              "        vertical-align: top;\n",
              "    }\n",
              "\n",
              "    .dataframe thead th {\n",
              "        text-align: right;\n",
              "    }\n",
              "</style>\n",
              "<table border=\"1\" class=\"dataframe\">\n",
              "  <thead>\n",
              "    <tr style=\"text-align: right;\">\n",
              "      <th></th>\n",
              "      <th>bottled water</th>\n",
              "      <th>chocolate</th>\n",
              "      <th>citrus fruit</th>\n",
              "      <th>cream</th>\n",
              "      <th>other vegetables</th>\n",
              "      <th>pastry</th>\n",
              "      <th>rolls/buns</th>\n",
              "      <th>root vegetables</th>\n",
              "      <th>sausage</th>\n",
              "      <th>soda</th>\n",
              "      <th>tropical fruit</th>\n",
              "      <th>whole milk</th>\n",
              "      <th>yogurt</th>\n",
              "      <th>basket_value_category</th>\n",
              "      <th>basket_value</th>\n",
              "      <th>recency_days</th>\n",
              "    </tr>\n",
              "  </thead>\n",
              "  <tbody>\n",
              "    <tr>\n",
              "      <th>0</th>\n",
              "      <td>0</td>\n",
              "      <td>0</td>\n",
              "      <td>1</td>\n",
              "      <td>0</td>\n",
              "      <td>0</td>\n",
              "      <td>0</td>\n",
              "      <td>0</td>\n",
              "      <td>0</td>\n",
              "      <td>0</td>\n",
              "      <td>0</td>\n",
              "      <td>0</td>\n",
              "      <td>0</td>\n",
              "      <td>0</td>\n",
              "      <td>low_value_basket</td>\n",
              "      <td>1.1</td>\n",
              "      <td>2</td>\n",
              "    </tr>\n",
              "    <tr>\n",
              "      <th>1</th>\n",
              "      <td>0</td>\n",
              "      <td>0</td>\n",
              "      <td>0</td>\n",
              "      <td>0</td>\n",
              "      <td>0</td>\n",
              "      <td>0</td>\n",
              "      <td>0</td>\n",
              "      <td>0</td>\n",
              "      <td>0</td>\n",
              "      <td>0</td>\n",
              "      <td>1</td>\n",
              "      <td>0</td>\n",
              "      <td>1</td>\n",
              "      <td>medium_value_basket</td>\n",
              "      <td>3.6</td>\n",
              "      <td>31</td>\n",
              "    </tr>\n",
              "    <tr>\n",
              "      <th>2</th>\n",
              "      <td>0</td>\n",
              "      <td>0</td>\n",
              "      <td>0</td>\n",
              "      <td>0</td>\n",
              "      <td>0</td>\n",
              "      <td>0</td>\n",
              "      <td>0</td>\n",
              "      <td>0</td>\n",
              "      <td>0</td>\n",
              "      <td>0</td>\n",
              "      <td>0</td>\n",
              "      <td>1</td>\n",
              "      <td>0</td>\n",
              "      <td>low_value_basket</td>\n",
              "      <td>1.2</td>\n",
              "      <td>7</td>\n",
              "    </tr>\n",
              "    <tr>\n",
              "      <th>3</th>\n",
              "      <td>0</td>\n",
              "      <td>0</td>\n",
              "      <td>0</td>\n",
              "      <td>0</td>\n",
              "      <td>0</td>\n",
              "      <td>0</td>\n",
              "      <td>0</td>\n",
              "      <td>0</td>\n",
              "      <td>0</td>\n",
              "      <td>0</td>\n",
              "      <td>0</td>\n",
              "      <td>0</td>\n",
              "      <td>1</td>\n",
              "      <td>high_value_basket</td>\n",
              "      <td>6.6</td>\n",
              "      <td>7</td>\n",
              "    </tr>\n",
              "    <tr>\n",
              "      <th>4</th>\n",
              "      <td>0</td>\n",
              "      <td>0</td>\n",
              "      <td>0</td>\n",
              "      <td>0</td>\n",
              "      <td>1</td>\n",
              "      <td>0</td>\n",
              "      <td>0</td>\n",
              "      <td>0</td>\n",
              "      <td>0</td>\n",
              "      <td>0</td>\n",
              "      <td>0</td>\n",
              "      <td>1</td>\n",
              "      <td>0</td>\n",
              "      <td>low_value_basket</td>\n",
              "      <td>2.5</td>\n",
              "      <td>66</td>\n",
              "    </tr>\n",
              "  </tbody>\n",
              "</table>\n",
              "</div>"
            ],
            "text/plain": [
              "   bottled water  chocolate  citrus fruit  cream  other vegetables  pastry  \\\n",
              "0              0          0             1      0                 0       0   \n",
              "1              0          0             0      0                 0       0   \n",
              "2              0          0             0      0                 0       0   \n",
              "3              0          0             0      0                 0       0   \n",
              "4              0          0             0      0                 1       0   \n",
              "\n",
              "   rolls/buns  root vegetables  sausage  soda  tropical fruit  whole milk  \\\n",
              "0           0                0        0     0               0           0   \n",
              "1           0                0        0     0               1           0   \n",
              "2           0                0        0     0               0           1   \n",
              "3           0                0        0     0               0           0   \n",
              "4           0                0        0     0               0           1   \n",
              "\n",
              "   yogurt basket_value_category  basket_value  recency_days  \n",
              "0       0      low_value_basket           1.1             2  \n",
              "1       1   medium_value_basket           3.6            31  \n",
              "2       0      low_value_basket           1.2             7  \n",
              "3       1     high_value_basket           6.6             7  \n",
              "4       0      low_value_basket           2.5            66  "
            ]
          },
          "execution_count": 17,
          "metadata": {},
          "output_type": "execute_result"
        }
      ],
      "source": [
        "transaction_binary['basket_value']=groceries_data['basket_value']\n",
        "transaction_binary['recency_days']=groceries_data['recency_days']\n",
        "transaction_binary.head()"
      ]
    },
    {
      "cell_type": "markdown",
      "metadata": {
        "id": "UkABddtLgoCw"
      },
      "source": [
        "Apply clustering k-means algorithm"
      ]
    },
    {
      "cell_type": "code",
      "execution_count": 18,
      "metadata": {
        "colab": {
          "base_uri": "https://localhost:8080/",
          "height": 529
        },
        "id": "dykyLjemBbGO",
        "outputId": "5b3b9a42-dc08-4aba-d817-a14a288a079d"
      },
      "outputs": [
        {
          "data": {
            "image/png": "[encoded data removed]",
            "text/plain": [
              "<Figure size 640x480 with 1 Axes>"
            ]
          },
          "metadata": {},
          "output_type": "display_data"
        }
      ],
      "source": [
        "from sklearn.cluster import KMeans\n",
        "from matplotlib import pyplot as plt\n",
        "X=transaction_binary[['basket_value', 'recency_days']]\n",
        "kmeans = KMeans(n_clusters=5)\n",
        "y = kmeans.fit_predict(X)\n",
        "transaction_binary['cluster'] = y\n",
        "\n",
        "plt.scatter(transaction_binary['basket_value'], transaction_binary['recency_days'], c=y, s=1, cmap='viridis')\n",
        "centers = kmeans.cluster_centers_\n",
        "plt.scatter(centers[:, 0], centers[:, 1], c='black', s=200, alpha=0.5)\n",
        "plt.xlabel('Basket_value')\n",
        "plt.ylabel('Recency_days')\n",
        "plt.title('K-Means Clustering with 5 Clusters')\n",
        "plt.show()"
      ]
    },
    {
      "cell_type": "code",
      "execution_count": 19,
      "metadata": {
        "colab": {
          "base_uri": "https://localhost:8080/",
          "height": 287
        },
        "id": "gL_i0aYyh76X",
        "outputId": "3d5e1f2e-ab29-4f60-e684-8c70f87f5910"
      },
      "outputs": [
        {
          "data": {
            "text/html": [
              "<div>\n",
              "<style scoped>\n",
              "    .dataframe tbody tr th:only-of-type {\n",
              "        vertical-align: middle;\n",
              "    }\n",
              "\n",
              "    .dataframe tbody tr th {\n",
              "        vertical-align: top;\n",
              "    }\n",
              "\n",
              "    .dataframe thead th {\n",
              "        text-align: right;\n",
              "    }\n",
              "</style>\n",
              "<table border=\"1\" class=\"dataframe\">\n",
              "  <thead>\n",
              "    <tr style=\"text-align: right;\">\n",
              "      <th></th>\n",
              "      <th>bottled water</th>\n",
              "      <th>chocolate</th>\n",
              "      <th>citrus fruit</th>\n",
              "      <th>cream</th>\n",
              "      <th>other vegetables</th>\n",
              "      <th>pastry</th>\n",
              "      <th>rolls/buns</th>\n",
              "      <th>root vegetables</th>\n",
              "      <th>sausage</th>\n",
              "      <th>soda</th>\n",
              "      <th>tropical fruit</th>\n",
              "      <th>whole milk</th>\n",
              "      <th>yogurt</th>\n",
              "      <th>basket_value_category</th>\n",
              "      <th>basket_value</th>\n",
              "      <th>recency_days</th>\n",
              "      <th>cluster</th>\n",
              "    </tr>\n",
              "  </thead>\n",
              "  <tbody>\n",
              "    <tr>\n",
              "      <th>0</th>\n",
              "      <td>0</td>\n",
              "      <td>0</td>\n",
              "      <td>1</td>\n",
              "      <td>0</td>\n",
              "      <td>0</td>\n",
              "      <td>0</td>\n",
              "      <td>0</td>\n",
              "      <td>0</td>\n",
              "      <td>0</td>\n",
              "      <td>0</td>\n",
              "      <td>0</td>\n",
              "      <td>0</td>\n",
              "      <td>0</td>\n",
              "      <td>low_value_basket</td>\n",
              "      <td>1.1</td>\n",
              "      <td>2</td>\n",
              "      <td>2</td>\n",
              "    </tr>\n",
              "    <tr>\n",
              "      <th>1</th>\n",
              "      <td>0</td>\n",
              "      <td>0</td>\n",
              "      <td>0</td>\n",
              "      <td>0</td>\n",
              "      <td>0</td>\n",
              "      <td>0</td>\n",
              "      <td>0</td>\n",
              "      <td>0</td>\n",
              "      <td>0</td>\n",
              "      <td>0</td>\n",
              "      <td>1</td>\n",
              "      <td>0</td>\n",
              "      <td>1</td>\n",
              "      <td>medium_value_basket</td>\n",
              "      <td>3.6</td>\n",
              "      <td>31</td>\n",
              "      <td>0</td>\n",
              "    </tr>\n",
              "    <tr>\n",
              "      <th>2</th>\n",
              "      <td>0</td>\n",
              "      <td>0</td>\n",
              "      <td>0</td>\n",
              "      <td>0</td>\n",
              "      <td>0</td>\n",
              "      <td>0</td>\n",
              "      <td>0</td>\n",
              "      <td>0</td>\n",
              "      <td>0</td>\n",
              "      <td>0</td>\n",
              "      <td>0</td>\n",
              "      <td>1</td>\n",
              "      <td>0</td>\n",
              "      <td>low_value_basket</td>\n",
              "      <td>1.2</td>\n",
              "      <td>7</td>\n",
              "      <td>2</td>\n",
              "    </tr>\n",
              "    <tr>\n",
              "      <th>3</th>\n",
              "      <td>0</td>\n",
              "      <td>0</td>\n",
              "      <td>0</td>\n",
              "      <td>0</td>\n",
              "      <td>0</td>\n",
              "      <td>0</td>\n",
              "      <td>0</td>\n",
              "      <td>0</td>\n",
              "      <td>0</td>\n",
              "      <td>0</td>\n",
              "      <td>0</td>\n",
              "      <td>0</td>\n",
              "      <td>1</td>\n",
              "      <td>high_value_basket</td>\n",
              "      <td>6.6</td>\n",
              "      <td>7</td>\n",
              "      <td>2</td>\n",
              "    </tr>\n",
              "    <tr>\n",
              "      <th>4</th>\n",
              "      <td>0</td>\n",
              "      <td>0</td>\n",
              "      <td>0</td>\n",
              "      <td>0</td>\n",
              "      <td>1</td>\n",
              "      <td>0</td>\n",
              "      <td>0</td>\n",
              "      <td>0</td>\n",
              "      <td>0</td>\n",
              "      <td>0</td>\n",
              "      <td>0</td>\n",
              "      <td>1</td>\n",
              "      <td>0</td>\n",
              "      <td>low_value_basket</td>\n",
              "      <td>2.5</td>\n",
              "      <td>66</td>\n",
              "      <td>1</td>\n",
              "    </tr>\n",
              "  </tbody>\n",
              "</table>\n",
              "</div>"
            ],
            "text/plain": [
              "   bottled water  chocolate  citrus fruit  cream  other vegetables  pastry  \\\n",
              "0              0          0             1      0                 0       0   \n",
              "1              0          0             0      0                 0       0   \n",
              "2              0          0             0      0                 0       0   \n",
              "3              0          0             0      0                 0       0   \n",
              "4              0          0             0      0                 1       0   \n",
              "\n",
              "   rolls/buns  root vegetables  sausage  soda  tropical fruit  whole milk  \\\n",
              "0           0                0        0     0               0           0   \n",
              "1           0                0        0     0               1           0   \n",
              "2           0                0        0     0               0           1   \n",
              "3           0                0        0     0               0           0   \n",
              "4           0                0        0     0               0           1   \n",
              "\n",
              "   yogurt basket_value_category  basket_value  recency_days  cluster  \n",
              "0       0      low_value_basket           1.1             2        2  \n",
              "1       1   medium_value_basket           3.6            31        0  \n",
              "2       0      low_value_basket           1.2             7        2  \n",
              "3       1     high_value_basket           6.6             7        2  \n",
              "4       0      low_value_basket           2.5            66        1  "
            ]
          },
          "execution_count": 19,
          "metadata": {},
          "output_type": "execute_result"
        }
      ],
      "source": [
        "transaction_binary.head()"
      ]
    },
    {
      "cell_type": "code",
      "execution_count": 20,
      "metadata": {
        "colab": {
          "base_uri": "https://localhost:8080/"
        },
        "id": "q7kiwYO-pePJ",
        "outputId": "275644b9-00d7-43f2-a904-18fb4e00ef48"
      },
      "outputs": [
        {
          "name": "stdout",
          "output_type": "stream",
          "text": [
            "Cluster 0:\n",
            "Count=1291\n",
            "Mean (basket_value, recency_days)=(3.839504260263362, 34.64446165762975)\n",
            "Std (basket_value, recency_days)=(0.7535781738672663, 5.035671814248372)\n",
            "-------------------------------\n",
            "Cluster 1:\n",
            "Count=1986\n",
            "Mean (basket_value, recency_days)=(5.3254783484390735, 70.23212487411884)\n",
            "Std (basket_value, recency_days)=(4.233303894329771, 3.892898037451095)\n",
            "-------------------------------\n",
            "Cluster 2:\n",
            "Count=1907\n",
            "Mean (basket_value, recency_days)=(4.574042999475616, 6.431567907708443)\n",
            "Std (basket_value, recency_days)=(3.9366137973042217, 3.190014227597565)\n",
            "-------------------------------\n",
            "Cluster 3:\n",
            "Count=1285\n",
            "Mean (basket_value, recency_days)=(3.0612451361867703, 52.63346303501945)\n",
            "Std (basket_value, recency_days)=(1.2526513960713561, 5.161893163891675)\n",
            "-------------------------------\n",
            "Cluster 4:\n",
            "Count=1067\n",
            "Mean (basket_value, recency_days)=(9.152858481724461, 19.552014995313964)\n",
            "Std (basket_value, recency_days)=(2.9599196882059493, 4.268856542434698)\n",
            "-------------------------------\n"
          ]
        },
        {
          "name": "stderr",
          "output_type": "stream",
          "text": [
            "/tmp/ipykernel_22882/603196878.py:12: FutureWarning: Series.__getitem__ treating keys as positions is deprecated. In a future version, integer keys will always be treated as labels (consistent with DataFrame behavior). To access a value by position, use `ser.iloc[pos]`\n",
            "  print(f\"Count={cluster_count.iloc[i][0]}\")\n"
          ]
        }
      ],
      "source": [
        "# Select only the \"basket value\" and \"recency days\" columns\n",
        "transaction_binary_subset = transaction_binary[[\"basket_value\", \"recency_days\"]]\n",
        "\n",
        "# Calculate the mean of each feature for each cluster\n",
        "cluster_means = transaction_binary_subset.groupby(transaction_binary['cluster']).mean()\n",
        "cluster_std = transaction_binary_subset.groupby(transaction_binary['cluster']).std()\n",
        "cluster_count = transaction_binary_subset.groupby(transaction_binary['cluster']).count()\n",
        "\n",
        "# Print statistics for each cluster (including mean and std for basket value and recency days)\n",
        "for i in range(5):\n",
        "    print(f\"Cluster {i}:\")\n",
        "    print(f\"Count={cluster_count.iloc[i][0]}\")\n",
        "    print(f\"Mean (basket_value, recency_days)={tuple(cluster_means.iloc[i])}\")\n",
        "    print(f\"Std (basket_value, recency_days)={tuple(cluster_std.iloc[i])}\")\n",
        "    print(\"-------------------------------\")"
      ]
    },
    {
      "cell_type": "markdown",
      "metadata": {
        "id": "RXnwZ_C-mdL0"
      },
      "source": [
        "Group 0 --> “Group of old transactions of **large** value that\n",
        "represents 24% of all transactions”\n",
        "\n",
        "Group 1 --> “Group of recent transactions of **large** value that\n",
        "represents 27% of all transactions”\n",
        "\n",
        "Group 2 -- > “Group of old transactions of **moderate** value that\n",
        "represents 16% of all transactions”\n",
        "\n",
        "Group 3 --> “Group of recent transactions of **large** value that\n",
        "represents 16% of all transactions”"
      ]
    },
    {
      "cell_type": "markdown",
      "metadata": {
        "id": "bXofp_tGtvYf"
      },
      "source": [
        "Group 0 should be of concern to the marketing department. They need to get involved."
      ]
    },
    {
      "cell_type": "markdown",
      "metadata": {
        "id": "WSSBuQyrt8j7"
      },
      "source": [
        "Conversion to binary format"
      ]
    },
    {
      "cell_type": "code",
      "execution_count": 21,
      "metadata": {
        "id": "RsUrM67x-TY9"
      },
      "outputs": [],
      "source": [
        "for i in range(5):\n",
        "  temp_list = []\n",
        "  for k in transaction_binary['cluster']:\n",
        "    if i == k:\n",
        "      val = 1\n",
        "    else:\n",
        "      val = 0\n",
        "    temp_list.append(val)\n",
        "  transaction_binary[f'Cluster{i}'] = temp_list"
      ]
    },
    {
      "cell_type": "code",
      "execution_count": 22,
      "metadata": {
        "colab": {
          "base_uri": "https://localhost:8080/",
          "height": 317
        },
        "id": "We0otHsP-bJL",
        "outputId": "da8b1725-47f6-41a4-8883-9b23ffbeab91"
      },
      "outputs": [
        {
          "data": {
            "text/html": [
              "<div>\n",
              "<style scoped>\n",
              "    .dataframe tbody tr th:only-of-type {\n",
              "        vertical-align: middle;\n",
              "    }\n",
              "\n",
              "    .dataframe tbody tr th {\n",
              "        vertical-align: top;\n",
              "    }\n",
              "\n",
              "    .dataframe thead th {\n",
              "        text-align: right;\n",
              "    }\n",
              "</style>\n",
              "<table border=\"1\" class=\"dataframe\">\n",
              "  <thead>\n",
              "    <tr style=\"text-align: right;\">\n",
              "      <th></th>\n",
              "      <th>bottled water</th>\n",
              "      <th>chocolate</th>\n",
              "      <th>citrus fruit</th>\n",
              "      <th>cream</th>\n",
              "      <th>other vegetables</th>\n",
              "      <th>pastry</th>\n",
              "      <th>rolls/buns</th>\n",
              "      <th>root vegetables</th>\n",
              "      <th>sausage</th>\n",
              "      <th>soda</th>\n",
              "      <th>...</th>\n",
              "      <th>yogurt</th>\n",
              "      <th>basket_value_category</th>\n",
              "      <th>basket_value</th>\n",
              "      <th>recency_days</th>\n",
              "      <th>cluster</th>\n",
              "      <th>Cluster0</th>\n",
              "      <th>Cluster1</th>\n",
              "      <th>Cluster2</th>\n",
              "      <th>Cluster3</th>\n",
              "      <th>Cluster4</th>\n",
              "    </tr>\n",
              "  </thead>\n",
              "  <tbody>\n",
              "    <tr>\n",
              "      <th>0</th>\n",
              "      <td>0</td>\n",
              "      <td>0</td>\n",
              "      <td>1</td>\n",
              "      <td>0</td>\n",
              "      <td>0</td>\n",
              "      <td>0</td>\n",
              "      <td>0</td>\n",
              "      <td>0</td>\n",
              "      <td>0</td>\n",
              "      <td>0</td>\n",
              "      <td>...</td>\n",
              "      <td>0</td>\n",
              "      <td>low_value_basket</td>\n",
              "      <td>1.1</td>\n",
              "      <td>2</td>\n",
              "      <td>2</td>\n",
              "      <td>0</td>\n",
              "      <td>0</td>\n",
              "      <td>1</td>\n",
              "      <td>0</td>\n",
              "      <td>0</td>\n",
              "    </tr>\n",
              "    <tr>\n",
              "      <th>1</th>\n",
              "      <td>0</td>\n",
              "      <td>0</td>\n",
              "      <td>0</td>\n",
              "      <td>0</td>\n",
              "      <td>0</td>\n",
              "      <td>0</td>\n",
              "      <td>0</td>\n",
              "      <td>0</td>\n",
              "      <td>0</td>\n",
              "      <td>0</td>\n",
              "      <td>...</td>\n",
              "      <td>1</td>\n",
              "      <td>medium_value_basket</td>\n",
              "      <td>3.6</td>\n",
              "      <td>31</td>\n",
              "      <td>0</td>\n",
              "      <td>1</td>\n",
              "      <td>0</td>\n",
              "      <td>0</td>\n",
              "      <td>0</td>\n",
              "      <td>0</td>\n",
              "    </tr>\n",
              "    <tr>\n",
              "      <th>2</th>\n",
              "      <td>0</td>\n",
              "      <td>0</td>\n",
              "      <td>0</td>\n",
              "      <td>0</td>\n",
              "      <td>0</td>\n",
              "      <td>0</td>\n",
              "      <td>0</td>\n",
              "      <td>0</td>\n",
              "      <td>0</td>\n",
              "      <td>0</td>\n",
              "      <td>...</td>\n",
              "      <td>0</td>\n",
              "      <td>low_value_basket</td>\n",
              "      <td>1.2</td>\n",
              "      <td>7</td>\n",
              "      <td>2</td>\n",
              "      <td>0</td>\n",
              "      <td>0</td>\n",
              "      <td>1</td>\n",
              "      <td>0</td>\n",
              "      <td>0</td>\n",
              "    </tr>\n",
              "    <tr>\n",
              "      <th>3</th>\n",
              "      <td>0</td>\n",
              "      <td>0</td>\n",
              "      <td>0</td>\n",
              "      <td>0</td>\n",
              "      <td>0</td>\n",
              "      <td>0</td>\n",
              "      <td>0</td>\n",
              "      <td>0</td>\n",
              "      <td>0</td>\n",
              "      <td>0</td>\n",
              "      <td>...</td>\n",
              "      <td>1</td>\n",
              "      <td>high_value_basket</td>\n",
              "      <td>6.6</td>\n",
              "      <td>7</td>\n",
              "      <td>2</td>\n",
              "      <td>0</td>\n",
              "      <td>0</td>\n",
              "      <td>1</td>\n",
              "      <td>0</td>\n",
              "      <td>0</td>\n",
              "    </tr>\n",
              "    <tr>\n",
              "      <th>4</th>\n",
              "      <td>0</td>\n",
              "      <td>0</td>\n",
              "      <td>0</td>\n",
              "      <td>0</td>\n",
              "      <td>1</td>\n",
              "      <td>0</td>\n",
              "      <td>0</td>\n",
              "      <td>0</td>\n",
              "      <td>0</td>\n",
              "      <td>0</td>\n",
              "      <td>...</td>\n",
              "      <td>0</td>\n",
              "      <td>low_value_basket</td>\n",
              "      <td>2.5</td>\n",
              "      <td>66</td>\n",
              "      <td>1</td>\n",
              "      <td>0</td>\n",
              "      <td>1</td>\n",
              "      <td>0</td>\n",
              "      <td>0</td>\n",
              "      <td>0</td>\n",
              "    </tr>\n",
              "  </tbody>\n",
              "</table>\n",
              "<p>5 rows × 22 columns</p>\n",
              "</div>"
            ],
            "text/plain": [
              "   bottled water  chocolate  citrus fruit  cream  other vegetables  pastry  \\\n",
              "0              0          0             1      0                 0       0   \n",
              "1              0          0             0      0                 0       0   \n",
              "2              0          0             0      0                 0       0   \n",
              "3              0          0             0      0                 0       0   \n",
              "4              0          0             0      0                 1       0   \n",
              "\n",
              "   rolls/buns  root vegetables  sausage  soda  ...  yogurt  \\\n",
              "0           0                0        0     0  ...       0   \n",
              "1           0                0        0     0  ...       1   \n",
              "2           0                0        0     0  ...       0   \n",
              "3           0                0        0     0  ...       1   \n",
              "4           0                0        0     0  ...       0   \n",
              "\n",
              "   basket_value_category  basket_value recency_days  cluster  Cluster0  \\\n",
              "0       low_value_basket           1.1            2        2         0   \n",
              "1    medium_value_basket           3.6           31        0         1   \n",
              "2       low_value_basket           1.2            7        2         0   \n",
              "3      high_value_basket           6.6            7        2         0   \n",
              "4       low_value_basket           2.5           66        1         0   \n",
              "\n",
              "   Cluster1  Cluster2  Cluster3  Cluster4  \n",
              "0         0         1         0         0  \n",
              "1         0         0         0         0  \n",
              "2         0         1         0         0  \n",
              "3         0         1         0         0  \n",
              "4         1         0         0         0  \n",
              "\n",
              "[5 rows x 22 columns]"
            ]
          },
          "execution_count": 22,
          "metadata": {},
          "output_type": "execute_result"
        }
      ],
      "source": [
        "transaction_binary.head()"
      ]
    },
    {
      "cell_type": "markdown",
      "metadata": {
        "id": "qN9EPKcYuytI"
      },
      "source": [
        "# Combined use of methods: description of product and general group profiles using correlation rules\n"
      ]
    },
    {
      "cell_type": "markdown",
      "metadata": {
        "id": "pgpR-cdqu5JR"
      },
      "source": [
        "We create two lists.\n",
        "One with products and transaction groups.\n",
        "One with products, the groups of\n",
        "transactions and the discretized basket value."
      ]
    },
    {
      "cell_type": "code",
      "execution_count": 23,
      "metadata": {
        "colab": {
          "base_uri": "https://localhost:8080/"
        },
        "id": "LPf-Mk8wu5aw",
        "outputId": "9a2dd12c-98c8-45da-f0dd-5e21255d62fa"
      },
      "outputs": [
        {
          "data": {
            "text/plain": [
              "['tropical fruit', 'yogurt', '0']"
            ]
          },
          "execution_count": 23,
          "metadata": {},
          "output_type": "execute_result"
        }
      ],
      "source": [
        "import copy\n",
        "filtered_items_cl = copy.deepcopy(filtered_items)\n",
        "for i in range(0, 7536):\n",
        "  #Populating a list of transactions\n",
        "  filtered_items_cl[i].append(str(transaction_binary['cluster'][i]))\n",
        "\n",
        "filtered_items_bc_cl = copy.deepcopy(filtered_items_cl)\n",
        "for i in range(0, 7536):\n",
        "  #Populating a list of transactions\n",
        "  filtered_items_bc_cl[i].append(transaction_binary['basket_value_category'][i])\n",
        "\n",
        "filtered_items_cl[1]"
      ]
    },
    {
      "cell_type": "markdown",
      "metadata": {
        "id": "dKlVdxoQx-jH"
      },
      "source": [
        "We find the 20 rules with the highest confidence exclusively\n",
        "for products and groups of transactions"
      ]
    },
    {
      "cell_type": "code",
      "execution_count": 24,
      "metadata": {
        "colab": {
          "base_uri": "https://localhost:8080/"
        },
        "id": "L1_y2fRJyMrL",
        "outputId": "2c1aea50-1235-4414-8a23-c64db1344daf"
      },
      "outputs": [
        {
          "name": "stdout",
          "output_type": "stream",
          "text": [
            "['pastry'] -> ['1'], with Confidence: 1.00\n",
            "['pastry', 'whole milk'] -> ['1'], with Confidence: 1.00\n",
            "['1', 'whole milk'] -> ['pastry'], with Confidence: 0.65\n",
            "['root vegetables'] -> ['whole milk'], with Confidence: 0.45\n",
            "['4'] -> ['whole milk'], with Confidence: 0.44\n",
            "['sausage'] -> ['4'], with Confidence: 0.44\n",
            "['1'] -> ['pastry'], with Confidence: 0.44\n",
            "['2'] -> ['whole milk'], with Confidence: 0.44\n",
            "['root vegetables'] -> ['other vegetables'], with Confidence: 0.43\n",
            "['tropical fruit'] -> ['whole milk'], with Confidence: 0.40\n",
            "['yogurt'] -> ['whole milk'], with Confidence: 0.40\n",
            "['other vegetables'] -> ['whole milk'], with Confidence: 0.39\n",
            "['4'] -> ['sausage'], with Confidence: 0.38\n",
            "['4'] -> ['other vegetables'], with Confidence: 0.38\n",
            "['pastry'] -> ['whole milk'], with Confidence: 0.37\n",
            "['pastry'] -> ['1', 'whole milk'], with Confidence: 0.37\n",
            "['pastry', '1'] -> ['whole milk'], with Confidence: 0.37\n",
            "['citrus fruit'] -> ['whole milk'], with Confidence: 0.37\n",
            "['4'] -> ['rolls/buns'], with Confidence: 0.36\n",
            "['citrus fruit'] -> ['other vegetables'], with Confidence: 0.35\n"
          ]
        }
      ],
      "source": [
        "results = list(apriori(filtered_items_cl, min_support=0.037, min_lift=1))\n",
        "\n",
        "rules = []\n",
        "for result in results:\n",
        "    rules += result.ordered_statistics\n",
        "\n",
        "def get_confidence(rule):\n",
        "  return rule.confidence\n",
        "\n",
        "ordered = sorted(rules, key=get_confidence, reverse=True)\n",
        "for rule in ordered[:20]:\n",
        "  print(f'{[*rule.items_base]} -> {[*rule.items_add]}, with Confidence: {rule.confidence:.2f}')"
      ]
    },
    {
      "cell_type": "markdown",
      "metadata": {
        "id": "gArawGYGzKS9"
      },
      "source": [
        "Pastry is quite related to group 0.\n",
        "\n",
        "Whole_milk is quite related to group 1.\n",
        "\n",
        "The combination [‘whole milk’, ‘pastry’] is very much bought by group 0.\n",
        "This should worry the marketing department, and is related to the pastry product. Its quality may have been deteriorating all this time, hence its reduced appearance in transactions."
      ]
    },
    {
      "cell_type": "markdown",
      "metadata": {
        "id": "Y5P4gTlY3YBM"
      },
      "source": [
        "We find the 20 rules with the highest confidence for products, groups of transactions and discretised basket value"
      ]
    },
    {
      "cell_type": "code",
      "execution_count": 25,
      "metadata": {
        "colab": {
          "base_uri": "https://localhost:8080/"
        },
        "id": "bci1Gube2-YJ",
        "outputId": "64a93f36-0bab-4ad9-cd20-56a4e6a8fe32"
      },
      "outputs": [
        {
          "name": "stdout",
          "output_type": "stream",
          "text": [
            "['0'] -> ['medium_value_basket'], with Confidence: 1.00\n",
            "['pastry'] -> ['1'], with Confidence: 1.00\n",
            "['0', 'other vegetables'] -> ['medium_value_basket'], with Confidence: 1.00\n",
            "['0', 'rolls/buns'] -> ['medium_value_basket'], with Confidence: 1.00\n",
            "['0', 'soda'] -> ['medium_value_basket'], with Confidence: 1.00\n",
            "['0', 'whole milk'] -> ['medium_value_basket'], with Confidence: 1.00\n",
            "['1', 'high_value_basket'] -> ['pastry'], with Confidence: 1.00\n",
            "['pastry', 'high_value_basket'] -> ['1'], with Confidence: 1.00\n",
            "['medium_value_basket', 'pastry'] -> ['1'], with Confidence: 1.00\n",
            "['pastry', 'whole milk'] -> ['1'], with Confidence: 1.00\n",
            "['rolls/buns', '2'] -> ['high_value_basket'], with Confidence: 1.00\n",
            "['4', 'sausage'] -> ['high_value_basket'], with Confidence: 1.00\n",
            "['rolls/buns', 'sausage'] -> ['high_value_basket'], with Confidence: 1.00\n",
            "['sausage', 'whole milk'] -> ['high_value_basket'], with Confidence: 1.00\n",
            "['4', 'yogurt'] -> ['high_value_basket'], with Confidence: 0.99\n",
            "['rolls/buns', '4'] -> ['high_value_basket'], with Confidence: 0.99\n",
            "['4', 'whole milk'] -> ['high_value_basket'], with Confidence: 0.99\n",
            "['4', 'other vegetables'] -> ['high_value_basket'], with Confidence: 0.99\n",
            "['4'] -> ['high_value_basket'], with Confidence: 0.99\n",
            "['4', 'soda'] -> ['high_value_basket'], with Confidence: 0.99\n"
          ]
        }
      ],
      "source": [
        "results = list(apriori(filtered_items_bc_cl, min_support=0.037, min_lift=1))\n",
        "\n",
        "rules = []\n",
        "for result in results:\n",
        "    rules += result.ordered_statistics\n",
        "\n",
        "def get_confidence(rule):\n",
        "  return rule.confidence\n",
        "\n",
        "ordered = sorted(rules, key=get_confidence, reverse=True)\n",
        "for rule in ordered[:20]:\n",
        "  print(f'{[*rule.items_base]} -> {[*rule.items_add]}, with Confidence: {rule.confidence:.2f}')"
      ]
    },
    {
      "cell_type": "markdown",
      "metadata": {
        "id": "Am-EXqv83uYp"
      },
      "source": [
        "We observe from the rule [‘2’] -&gt; [‘medium_value_basket’] that all trades in group 2 are of medium value.\n",
        "\n",
        "[‘sausage’, ‘3’] -&gt; [‘high_value_basket’] shows us that sausage has a high cost and is in group 3. Similarly, for ['3', 'yogurt'] -> ['high_value_basket']."
      ]
    }
  ],
  "metadata": {
    "colab": {
      "provenance": []
    },
    "kernelspec": {
      "display_name": "env",
      "language": "python",
      "name": "python3"
    },
    "language_info": {
      "codemirror_mode": {
        "name": "ipython",
        "version": 3
      },
      "file_extension": ".py",
      "mimetype": "text/x-python",
      "name": "python",
      "nbconvert_exporter": "python",
      "pygments_lexer": "ipython3",
      "version": "3.13.3"
    }
  },
  "nbformat": 4,
  "nbformat_minor": 0
}
